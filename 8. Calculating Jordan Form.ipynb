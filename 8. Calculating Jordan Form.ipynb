{
 "cells": [
  {
   "cell_type": "markdown",
   "metadata": {},
   "source": [
    "A Jordan block with value λ is a square , upper triangular whose entries are all λ on the diagonal, 1 on the entries immediately above the diagonal , and 0 elsewhere."
   ]
  },
  {
   "cell_type": "markdown",
   "metadata": {},
   "source": [
    "Typical Jordan blocks of size 1,2 and 3 look like the following"
   ]
  },
  {
   "cell_type": "code",
   "execution_count": null,
   "metadata": {},
   "outputs": [],
   "source": [
    "[λ] [[λ 1]      [[λ  1  0]\n",
    "     [0 λ]]      [0  λ  1]\n",
    "                 [0  0  λ]]"
   ]
  },
  {
   "cell_type": "code",
   "execution_count": 1,
   "metadata": {},
   "outputs": [],
   "source": [
    "import numpy as np\n",
    "from sympy import Matrix as M"
   ]
  },
  {
   "cell_type": "code",
   "execution_count": 2,
   "metadata": {},
   "outputs": [
    {
     "data": {
      "text/plain": [
       "array([[ 6,  5, -2, -3],\n",
       "       [-3, -1,  3,  3],\n",
       "       [ 2,  1, -2, -3],\n",
       "       [-1, -1,  5,  5]])"
      ]
     },
     "execution_count": 2,
     "metadata": {},
     "output_type": "execute_result"
    }
   ],
   "source": [
    "JF = np.array([[6,5,-2,-3],[-3,-1,3,3],[2,1,-2,-3],[-1,-1,5,5]])\n",
    "JF"
   ]
  },
  {
   "cell_type": "code",
   "execution_count": 3,
   "metadata": {},
   "outputs": [
    {
     "data": {
      "text/latex": [
       "$\\displaystyle \\left[\\begin{matrix}6 & 5 & -2 & -3\\\\-3 & -1 & 3 & 3\\\\2 & 1 & -2 & -3\\\\-1 & -1 & 5 & 5\\end{matrix}\\right]$"
      ],
      "text/plain": [
       "Matrix([\n",
       "[ 6,  5, -2, -3],\n",
       "[-3, -1,  3,  3],\n",
       "[ 2,  1, -2, -3],\n",
       "[-1, -1,  5,  5]])"
      ]
     },
     "execution_count": 3,
     "metadata": {},
     "output_type": "execute_result"
    }
   ],
   "source": [
    "JFM = M(JF)   # Converting the array into matrix\n",
    "JFM"
   ]
  },
  {
   "cell_type": "code",
   "execution_count": 4,
   "metadata": {},
   "outputs": [],
   "source": [
    "P,J = JFM.jordan_form()\n"
   ]
  },
  {
   "cell_type": "code",
   "execution_count": 6,
   "metadata": {},
   "outputs": [
    {
     "data": {
      "text/latex": [
       "$\\displaystyle \\left[\\begin{matrix}2 & 1 & - \\frac{\\left(-108 + 6 \\sqrt{6} i\\right) \\left(48 + 12 \\sqrt{6} i\\right) - \\left(\\left(-6 + \\sqrt{6} i\\right) \\left(3 + 3 \\sqrt{6} i\\right) - \\left(-6 - 3 \\sqrt{6} i\\right) \\left(15 + \\left(-3 + \\sqrt{6} i\\right) \\left(4 + \\sqrt{6} i\\right)\\right)\\right) \\left(-8 - 5 \\left(-4 + \\sqrt{6} i\\right) \\left(4 + \\sqrt{6} i\\right) - 2 \\sqrt{6} i\\right)}{\\left(-108 + 6 \\sqrt{6} i\\right) \\left(-6 + \\sqrt{6} i\\right) \\left(4 + \\sqrt{6} i\\right)} & - \\frac{- \\left(- \\left(-6 + 3 \\sqrt{6} i\\right) \\left(15 + \\left(-3 - \\sqrt{6} i\\right) \\left(4 - \\sqrt{6} i\\right)\\right) + \\left(-6 - \\sqrt{6} i\\right) \\left(3 - 3 \\sqrt{6} i\\right)\\right) \\left(-8 - 5 \\left(-4 - \\sqrt{6} i\\right) \\left(4 - \\sqrt{6} i\\right) + 2 \\sqrt{6} i\\right) + \\left(-108 - 6 \\sqrt{6} i\\right) \\left(48 - 12 \\sqrt{6} i\\right)}{\\left(-108 - 6 \\sqrt{6} i\\right) \\left(-6 - \\sqrt{6} i\\right) \\left(4 - \\sqrt{6} i\\right)}\\\\0 & 0 & - \\frac{- \\left(\\left(-6 + \\sqrt{6} i\\right) \\left(3 + 3 \\sqrt{6} i\\right) - \\left(-6 - 3 \\sqrt{6} i\\right) \\left(15 + \\left(-3 + \\sqrt{6} i\\right) \\left(4 + \\sqrt{6} i\\right)\\right)\\right) \\left(\\left(-4 + \\sqrt{6} i\\right) \\left(4 + \\sqrt{6} i\\right) + 4\\right) + \\left(-108 + 6 \\sqrt{6} i\\right) \\left(-6 - 3 \\sqrt{6} i\\right)}{\\left(-108 + 6 \\sqrt{6} i\\right) \\left(-6 + \\sqrt{6} i\\right)} & - \\frac{\\left(-108 - 6 \\sqrt{6} i\\right) \\left(-6 + 3 \\sqrt{6} i\\right) - \\left(- \\left(-6 + 3 \\sqrt{6} i\\right) \\left(15 + \\left(-3 - \\sqrt{6} i\\right) \\left(4 - \\sqrt{6} i\\right)\\right) + \\left(-6 - \\sqrt{6} i\\right) \\left(3 - 3 \\sqrt{6} i\\right)\\right) \\left(\\left(-4 - \\sqrt{6} i\\right) \\left(4 - \\sqrt{6} i\\right) + 4\\right)}{\\left(-108 - 6 \\sqrt{6} i\\right) \\left(-6 - \\sqrt{6} i\\right)}\\\\-2 & 1 & - \\frac{\\left(-6 + \\sqrt{6} i\\right) \\left(3 + 3 \\sqrt{6} i\\right) - \\left(-6 - 3 \\sqrt{6} i\\right) \\left(15 + \\left(-3 + \\sqrt{6} i\\right) \\left(4 + \\sqrt{6} i\\right)\\right)}{-108 + 6 \\sqrt{6} i} & - \\frac{- \\left(-6 + 3 \\sqrt{6} i\\right) \\left(15 + \\left(-3 - \\sqrt{6} i\\right) \\left(4 - \\sqrt{6} i\\right)\\right) + \\left(-6 - \\sqrt{6} i\\right) \\left(3 - 3 \\sqrt{6} i\\right)}{-108 - 6 \\sqrt{6} i}\\\\4 & 0 & 1 & 1\\end{matrix}\\right]$"
      ],
      "text/plain": [
       "Matrix([\n",
       "[ 2, 1, -((-108 + 6*sqrt(6)*I)*(48 + 12*sqrt(6)*I) - ((-6 + sqrt(6)*I)*(3 + 3*sqrt(6)*I) - (-6 - 3*sqrt(6)*I)*(15 + (-3 + sqrt(6)*I)*(4 + sqrt(6)*I)))*(-8 - 5*(-4 + sqrt(6)*I)*(4 + sqrt(6)*I) - 2*sqrt(6)*I))/((-108 + 6*sqrt(6)*I)*(-6 + sqrt(6)*I)*(4 + sqrt(6)*I)), -(-(-(-6 + 3*sqrt(6)*I)*(15 + (-3 - sqrt(6)*I)*(4 - sqrt(6)*I)) + (-6 - sqrt(6)*I)*(3 - 3*sqrt(6)*I))*(-8 - 5*(-4 - sqrt(6)*I)*(4 - sqrt(6)*I) + 2*sqrt(6)*I) + (-108 - 6*sqrt(6)*I)*(48 - 12*sqrt(6)*I))/((-108 - 6*sqrt(6)*I)*(-6 - sqrt(6)*I)*(4 - sqrt(6)*I))],\n",
       "[ 0, 0,                                  -(-((-6 + sqrt(6)*I)*(3 + 3*sqrt(6)*I) - (-6 - 3*sqrt(6)*I)*(15 + (-3 + sqrt(6)*I)*(4 + sqrt(6)*I)))*((-4 + sqrt(6)*I)*(4 + sqrt(6)*I) + 4) + (-108 + 6*sqrt(6)*I)*(-6 - 3*sqrt(6)*I))/((-108 + 6*sqrt(6)*I)*(-6 + sqrt(6)*I)),                                    -((-108 - 6*sqrt(6)*I)*(-6 + 3*sqrt(6)*I) - (-(-6 + 3*sqrt(6)*I)*(15 + (-3 - sqrt(6)*I)*(4 - sqrt(6)*I)) + (-6 - sqrt(6)*I)*(3 - 3*sqrt(6)*I))*((-4 - sqrt(6)*I)*(4 - sqrt(6)*I) + 4))/((-108 - 6*sqrt(6)*I)*(-6 - sqrt(6)*I))],\n",
       "[-2, 1,                                                                                                                                         -((-6 + sqrt(6)*I)*(3 + 3*sqrt(6)*I) - (-6 - 3*sqrt(6)*I)*(15 + (-3 + sqrt(6)*I)*(4 + sqrt(6)*I)))/(-108 + 6*sqrt(6)*I),                                                                                                                                          -(-(-6 + 3*sqrt(6)*I)*(15 + (-3 - sqrt(6)*I)*(4 - sqrt(6)*I)) + (-6 - sqrt(6)*I)*(3 - 3*sqrt(6)*I))/(-108 - 6*sqrt(6)*I)],\n",
       "[ 4, 0,                                                                                                                                                                                                                                                               1,                                                                                                                                                                                                                                                                 1]])"
      ]
     },
     "execution_count": 6,
     "metadata": {},
     "output_type": "execute_result"
    }
   ],
   "source": [
    "P"
   ]
  },
  {
   "cell_type": "code",
   "execution_count": 7,
   "metadata": {},
   "outputs": [
    {
     "data": {
      "text/latex": [
       "$\\displaystyle \\left[\\begin{matrix}2 & 1 & 0 & 0\\\\0 & 2 & 0 & 0\\\\0 & 0 & 2 - \\sqrt{6} i & 0\\\\0 & 0 & 0 & 2 + \\sqrt{6} i\\end{matrix}\\right]$"
      ],
      "text/plain": [
       "Matrix([\n",
       "[2, 1,             0,             0],\n",
       "[0, 2,             0,             0],\n",
       "[0, 0, 2 - sqrt(6)*I,             0],\n",
       "[0, 0,             0, 2 + sqrt(6)*I]])"
      ]
     },
     "execution_count": 7,
     "metadata": {},
     "output_type": "execute_result"
    }
   ],
   "source": [
    "J"
   ]
  },
  {
   "cell_type": "code",
   "execution_count": null,
   "metadata": {},
   "outputs": [],
   "source": []
  }
 ],
 "metadata": {
  "kernelspec": {
   "display_name": "Python 3",
   "language": "python",
   "name": "python3"
  },
  "language_info": {
   "codemirror_mode": {
    "name": "ipython",
    "version": 3
   },
   "file_extension": ".py",
   "mimetype": "text/x-python",
   "name": "python",
   "nbconvert_exporter": "python",
   "pygments_lexer": "ipython3",
   "version": "3.7.6"
  }
 },
 "nbformat": 4,
 "nbformat_minor": 4
}

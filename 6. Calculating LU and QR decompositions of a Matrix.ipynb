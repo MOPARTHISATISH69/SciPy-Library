{
 "cells": [
  {
   "cell_type": "markdown",
   "metadata": {},
   "source": [
    "A square matrix 'A' can be decomposed into two square matrices L and U such that A = LU where U is an upper triangular matrix formed as result of applying Gauss elimination method on A. L is a lower triangular matrix with diagonal elements being equal to 1"
   ]
  },
  {
   "cell_type": "code",
   "execution_count": null,
   "metadata": {},
   "outputs": [],
   "source": [
    "A  [[a11 a12 a13]     L = [[1   0   0]     U = [[U11 U12 U13]\n",
    "    [a21 a22 a23]          [L21 1   0]          [0   U22 U23]            such that A = LU\n",
    "    [a31 a32 a33]]         [L31 L32 1]]         [0   0   U33]    "
   ]
  },
  {
   "cell_type": "code",
   "execution_count": 1,
   "metadata": {},
   "outputs": [],
   "source": [
    "#define a matrix\n",
    "import numpy as np\n",
    "import scipy as s"
   ]
  },
  {
   "cell_type": "code",
   "execution_count": 2,
   "metadata": {},
   "outputs": [
    {
     "name": "stdout",
     "output_type": "stream",
     "text": [
      "[[3. 1. 1.]\n",
      " [1. 2. 3.]\n",
      " [1. 0. 0.]]\n"
     ]
    }
   ],
   "source": [
    "M = np.array([[3.,1.,1.],[1.,2.,3.],[1.,0,0]])\n",
    "print(M)"
   ]
  },
  {
   "cell_type": "code",
   "execution_count": 4,
   "metadata": {},
   "outputs": [
    {
     "name": "stdout",
     "output_type": "stream",
     "text": [
      "[[1. 0. 0.]\n",
      " [0. 1. 0.]\n",
      " [0. 0. 1.]] \n",
      "\n",
      " [[ 1.          0.          0.        ]\n",
      " [ 0.33333333  1.          0.        ]\n",
      " [ 0.33333333 -0.2         1.        ]] \n",
      "\n",
      " [[3.         1.         1.        ]\n",
      " [0.         1.66666667 2.66666667]\n",
      " [0.         0.         0.2       ]]\n"
     ]
    }
   ],
   "source": [
    "# Import linalg \n",
    "import scipy.linalg as la\n",
    "P,L,U = la.lu(M)\n",
    "print(P,'\\n\\n',L,'\\n\\n',U)"
   ]
  },
  {
   "cell_type": "markdown",
   "metadata": {},
   "source": [
    "http://faculty.etsu.edu/joynerm/Diagonal%20Matrices.pdf"
   ]
  },
  {
   "cell_type": "markdown",
   "metadata": {},
   "source": [
    "https://www.math-only-math.com/triangular-matrix.html"
   ]
  },
  {
   "cell_type": "code",
   "execution_count": 5,
   "metadata": {},
   "outputs": [
    {
     "data": {
      "text/plain": [
       "array([[3.00000000e+00, 1.00000000e+00, 1.00000000e+00],\n",
       "       [1.00000000e+00, 2.00000000e+00, 3.00000000e+00],\n",
       "       [1.00000000e+00, 0.00000000e+00, 5.55111512e-17]])"
      ]
     },
     "execution_count": 5,
     "metadata": {},
     "output_type": "execute_result"
    }
   ],
   "source": [
    "np.dot(L,U)  #multiply Lower and upper , gives us original matrix 'M' [2]"
   ]
  },
  {
   "cell_type": "markdown",
   "metadata": {},
   "source": [
    "#### Calculating the QR decompostion of the Matrix"
   ]
  },
  {
   "cell_type": "markdown",
   "metadata": {},
   "source": [
    "Similar to the LU decompostion, QR decompostion is the decompostion of an original matrix into it's constituent parts, the matrix A= QR , where Q is an orthogonal matrix and R is an upper triangular matrix."
   ]
  },
  {
   "cell_type": "markdown",
   "metadata": {},
   "source": [
    "let's look into the properties of orthogonal matrix \n",
    " - it's a square matrix\n",
    " - Multiplying Q with it's transpose results in identity matrix"
   ]
  },
  {
   "cell_type": "code",
   "execution_count": 6,
   "metadata": {},
   "outputs": [
    {
     "name": "stdout",
     "output_type": "stream",
     "text": [
      "[[3. 1. 1.]\n",
      " [1. 2. 3.]\n",
      " [1. 0. 0.]]\n"
     ]
    }
   ],
   "source": [
    "# Initialize the matrix\n",
    "\n",
    "MM = np.array([[3.,1.,1.],[1.,2.,3.],[1.,0.,0.]])\n",
    "print(MM)"
   ]
  },
  {
   "cell_type": "code",
   "execution_count": 7,
   "metadata": {},
   "outputs": [
    {
     "name": "stdout",
     "output_type": "stream",
     "text": [
      "[[-0.90453403  0.22019275 -0.36514837]\n",
      " [-0.30151134 -0.9358192   0.18257419]\n",
      " [-0.30151134  0.27524094  0.91287093]] \n",
      "\n",
      " [[-3.31662479 -1.50755672 -1.80906807]\n",
      " [ 0.         -1.65144565 -2.58726485]\n",
      " [ 0.          0.          0.18257419]]\n"
     ]
    }
   ],
   "source": [
    "#Extract Q and R matrices of the martix MM\n",
    "\n",
    "Q,R = la.qr(MM)\n",
    "print(Q,'\\n\\n',R)"
   ]
  },
  {
   "cell_type": "code",
   "execution_count": 8,
   "metadata": {},
   "outputs": [
    {
     "name": "stdout",
     "output_type": "stream",
     "text": [
      "[[ 1.00000000e+00 -1.20065498e-16 -1.22552319e-16]\n",
      " [-1.20065498e-16  1.00000000e+00 -1.95722499e-17]\n",
      " [-1.22552319e-16 -1.95722499e-17  1.00000000e+00]]\n"
     ]
    }
   ],
   "source": [
    "# Multiply Q with it's transpose results in an identity matrix\n",
    "\n",
    "print(np.dot(Q,Q.T))"
   ]
  },
  {
   "cell_type": "code",
   "execution_count": 9,
   "metadata": {},
   "outputs": [
    {
     "name": "stdout",
     "output_type": "stream",
     "text": [
      "[[ 3.00000000e+00  1.00000000e+00  1.00000000e+00]\n",
      " [ 1.00000000e+00  2.00000000e+00  3.00000000e+00]\n",
      " [ 1.00000000e+00 -1.11022302e-16 -1.72860033e-16]]\n"
     ]
    }
   ],
   "source": [
    "# Matrix multiplication Q and R to get original matrix MM\n",
    "print(np.dot(Q,R))"
   ]
  },
  {
   "cell_type": "code",
   "execution_count": null,
   "metadata": {},
   "outputs": [],
   "source": []
  }
 ],
 "metadata": {
  "kernelspec": {
   "display_name": "Python 3",
   "language": "python",
   "name": "python3"
  },
  "language_info": {
   "codemirror_mode": {
    "name": "ipython",
    "version": 3
   },
   "file_extension": ".py",
   "mimetype": "text/x-python",
   "name": "python",
   "nbconvert_exporter": "python",
   "pygments_lexer": "ipython3",
   "version": "3.7.6"
  }
 },
 "nbformat": 4,
 "nbformat_minor": 4
}

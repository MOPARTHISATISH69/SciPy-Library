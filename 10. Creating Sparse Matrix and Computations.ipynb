{
 "cells": [
  {
   "cell_type": "markdown",
   "metadata": {},
   "source": [
    "Inorder ot understand 'Sparse Matrices' will consider the follwoing real world secnario \n",
    "\n",
    "Recommending the next item that supermarekt customer is likely to buy , given a set of histrocial transaction"
   ]
  },
  {
   "cell_type": "code",
   "execution_count": 1,
   "metadata": {},
   "outputs": [],
   "source": [
    "import numpy as np\n",
    "import scipy.sparse as sp"
   ]
  },
  {
   "cell_type": "markdown",
   "metadata": {},
   "source": [
    "In a typical supermarket there might be millions of customers and 1000's of items , any given user only have buyed few items among the thousands of items in the supermarket ,,,, we can represent all the transactions of a supermarket such a way that all the customers represented in rows and all the itemsa re represented in columns\n",
    "\n",
    "The cell values are 1 , if the customer bought the item , and 0 otherwise."
   ]
  },
  {
   "cell_type": "markdown",
   "metadata": {},
   "source": [
    "In this secnario  will have high majoriyt of zeros and we have a very few ones , these secnario with number of ones is extremely low is called Sparsity or sparse number of ones , hence the matrix is called Sparse matrix."
   ]
  },
  {
   "cell_type": "markdown",
   "metadata": {},
   "source": [
    "The need for the better representation comes , that where the sparse matrix comes into picture. Inorder to understanf the need for presenting a matrix as sparse matrix , let's look another secnario. \n",
    "\n",
    "Imagine that there are millions of customers at supermarket and ten thousand of items available in that. if we were to represent to transactions it would be a million x 10000 items , would be a dimendion of matrix\n",
    "\n",
    "number of rows is number of customers and number of coulumns is number of items in matrix. Number of ones is extremely sparse, \n",
    "\n",
    "We have better idea to store only index where it is greater than 1 and ignore others . "
   ]
  },
  {
   "cell_type": "code",
   "execution_count": 2,
   "metadata": {},
   "outputs": [],
   "source": [
    "SM = np.array([[4,5,0],[0,0,2],[1,0,2]])\n",
    "#Convert the initialized matrix into sparse matirx using compressed sparse row matrix(csr_matrix)\n",
    "SM_S = sp.csr_matrix(SM)"
   ]
  },
  {
   "cell_type": "code",
   "execution_count": 3,
   "metadata": {},
   "outputs": [
    {
     "name": "stdout",
     "output_type": "stream",
     "text": [
      "  (0, 0)\t4\n",
      "  (0, 1)\t5\n",
      "  (1, 2)\t2\n",
      "  (2, 0)\t1\n",
      "  (2, 2)\t2\n"
     ]
    }
   ],
   "source": [
    "print(SM_S)"
   ]
  },
  {
   "cell_type": "code",
   "execution_count": 4,
   "metadata": {},
   "outputs": [
    {
     "data": {
      "text/plain": [
       "<3x3 sparse matrix of type '<class 'numpy.intc'>'\n",
       "\twith 5 stored elements in Compressed Sparse Row format>"
      ]
     },
     "execution_count": 4,
     "metadata": {},
     "output_type": "execute_result"
    }
   ],
   "source": [
    "SM_S"
   ]
  },
  {
   "cell_type": "code",
   "execution_count": 5,
   "metadata": {},
   "outputs": [],
   "source": [
    "# Computations on top of sparse matrix\n",
    "\n",
    "from scipy.sparse import lil_matrix\n",
    "from scipy.sparse.linalg import spsolve\n",
    "from numpy.linalg import solve,norm\n",
    "from numpy.random import rand"
   ]
  },
  {
   "cell_type": "code",
   "execution_count": 6,
   "metadata": {},
   "outputs": [],
   "source": [
    "# Initialize a 10,000x10,000 matrix names r\n",
    "r = lil_matrix((10000,10000))\n",
    "#Impute very few values only with random numbers\n",
    "r[0,:100] = rand(100)\n",
    "r[1,100:200] = r[0,:100]"
   ]
  },
  {
   "cell_type": "markdown",
   "metadata": {},
   "source": [
    "set the Diagonal of the original Matrix"
   ]
  },
  {
   "cell_type": "code",
   "execution_count": 7,
   "metadata": {},
   "outputs": [],
   "source": [
    "r.setdiag(rand(10000))"
   ]
  },
  {
   "cell_type": "code",
   "execution_count": 8,
   "metadata": {},
   "outputs": [],
   "source": [
    "#Initialize the output\n",
    "b = rand(10000)"
   ]
  },
  {
   "cell_type": "code",
   "execution_count": 9,
   "metadata": {},
   "outputs": [],
   "source": [
    "# Convert the input matrix to csr format\n",
    "r = r.tocsr()"
   ]
  },
  {
   "cell_type": "code",
   "execution_count": 10,
   "metadata": {},
   "outputs": [
    {
     "data": {
      "text/plain": [
       "array([ 258.78401492, -297.93108697,    1.22602033, ...,   67.0736607 ,\n",
       "          1.63959422,    2.46115887])"
      ]
     },
     "execution_count": 10,
     "metadata": {},
     "output_type": "execute_result"
    }
   ],
   "source": [
    "#Solve the equation Ax = b\n",
    "x = spsolve(r,b)\n",
    "x"
   ]
  },
  {
   "cell_type": "code",
   "execution_count": 11,
   "metadata": {},
   "outputs": [
    {
     "name": "stdout",
     "output_type": "stream",
     "text": [
      "0.008866310119628906\n"
     ]
    }
   ],
   "source": [
    "import time\n",
    "#Calculate the time taken to compute using the sparse matrix format\n",
    "\n",
    "st_time = time.time()\n",
    "X10 = spsolve(r.tocsr(),b)\n",
    "end_time = time.time()\n",
    "print(end_time - st_time)"
   ]
  },
  {
   "cell_type": "code",
   "execution_count": 13,
   "metadata": {},
   "outputs": [
    {
     "name": "stdout",
     "output_type": "stream",
     "text": [
      "27.036328077316284\n"
     ]
    }
   ],
   "source": [
    "# Calculate the time taken to compute using the regular dense matrix format\n",
    "st_time = time.time()\n",
    "X10 = solve(r.toarray(),b)\n",
    "end_time = time.time()\n",
    "print(end_time - st_time)"
   ]
  },
  {
   "cell_type": "code",
   "execution_count": null,
   "metadata": {},
   "outputs": [],
   "source": []
  }
 ],
 "metadata": {
  "kernelspec": {
   "display_name": "Python 3",
   "language": "python",
   "name": "python3"
  },
  "language_info": {
   "codemirror_mode": {
    "name": "ipython",
    "version": 3
   },
   "file_extension": ".py",
   "mimetype": "text/x-python",
   "name": "python",
   "nbconvert_exporter": "python",
   "pygments_lexer": "ipython3",
   "version": "3.7.6"
  }
 },
 "nbformat": 4,
 "nbformat_minor": 4
}

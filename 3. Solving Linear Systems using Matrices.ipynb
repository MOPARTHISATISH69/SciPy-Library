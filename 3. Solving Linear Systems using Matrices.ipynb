{
 "cells": [
  {
   "cell_type": "markdown",
   "metadata": {},
   "source": [
    "Linear Equation ==> ax+by = c (x,y) are unknown  (a,b,c) are values"
   ]
  },
  {
   "cell_type": "markdown",
   "metadata": {},
   "source": [
    "For Example, suppose we want to solve the following simultaneous equation\n",
    "- 5x+y+3z = 7\n",
    "- 2x+4y+6z = 4\n",
    "- x+5y+2z =5"
   ]
  },
  {
   "cell_type": "code",
   "execution_count": null,
   "metadata": {},
   "outputs": [],
   "source": [
    "# We can translate into preceding set of equations into a matrix form, as follows\n",
    "\n",
    "# [[5,1,3]     [[x]      [[7]\n",
    "#  [2,4,6]      [y]  =    [4]\n",
    "#  [1,5,2]]     [z]]      [5]]\n",
    "\n",
    "# This is of the form Ax = b\n",
    "# so, x = inv(A)*b"
   ]
  },
  {
   "cell_type": "code",
   "execution_count": 1,
   "metadata": {},
   "outputs": [],
   "source": [
    "import numpy as np\n",
    "from scipy import linalg as la"
   ]
  },
  {
   "cell_type": "code",
   "execution_count": 2,
   "metadata": {},
   "outputs": [
    {
     "name": "stdout",
     "output_type": "stream",
     "text": [
      "[[ 1.46666667]\n",
      " [ 0.86666667]\n",
      " [-0.4       ]]\n"
     ]
    }
   ],
   "source": [
    "A = [[5,1,3],[2,4,6],[1,5,2]]\n",
    "B = [[7],[4],[5]]\n",
    "# Multiply inv of A with B vector\n",
    "\n",
    "X = np.dot(la.inv(A),B)\n",
    "print(X)"
   ]
  },
  {
   "cell_type": "code",
   "execution_count": 3,
   "metadata": {},
   "outputs": [
    {
     "data": {
      "text/plain": [
       "array([[ 1.46666667],\n",
       "       [ 0.86666667],\n",
       "       [-0.4       ]])"
      ]
     },
     "execution_count": 3,
     "metadata": {},
     "output_type": "execute_result"
    }
   ],
   "source": [
    "# How to solve using sciPy 'SOLVE' function\n",
    "la.solve(A,B)         # this is similat to scipy.linalg.solve(A,B)"
   ]
  },
  {
   "cell_type": "code",
   "execution_count": null,
   "metadata": {},
   "outputs": [],
   "source": [
    "#### Calculating determent of matrix\n",
    "\n",
    "# DM = [[5 1 3]\n",
    "#      [2 4 6]\n",
    "#      [1 5 2]]\n",
    "\n",
    "# |A| = 5|4 6|-1|2 6|+3|2 4|\n",
    "#        |5 2|  |1 2|  |1 5|\n",
    "#|A| = 5(4*2 + 5*6)-**************"
   ]
  },
  {
   "cell_type": "code",
   "execution_count": 4,
   "metadata": {},
   "outputs": [
    {
     "data": {
      "text/plain": [
       "-90.0"
      ]
     },
     "execution_count": 4,
     "metadata": {},
     "output_type": "execute_result"
    }
   ],
   "source": [
    "DM = [[5,1,3],[2,4,6],[1,5,2]]\n",
    "la.det(A)"
   ]
  },
  {
   "cell_type": "code",
   "execution_count": null,
   "metadata": {},
   "outputs": [],
   "source": [
    "# Daterminent plays a major value in matrix inverse "
   ]
  }
 ],
 "metadata": {
  "kernelspec": {
   "display_name": "Python 3",
   "language": "python",
   "name": "python3"
  },
  "language_info": {
   "codemirror_mode": {
    "name": "ipython",
    "version": 3
   },
   "file_extension": ".py",
   "mimetype": "text/x-python",
   "name": "python",
   "nbconvert_exporter": "python",
   "pygments_lexer": "ipython3",
   "version": "3.7.6"
  }
 },
 "nbformat": 4,
 "nbformat_minor": 4
}

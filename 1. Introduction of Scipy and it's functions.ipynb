{
 "cells": [
  {
   "cell_type": "markdown",
   "metadata": {},
   "source": [
    " ### What is Scipy\n",
    " \n",
    " - SciPy is an extension package of NumPy\n",
    " - An open source Python - based library\n",
    " - Used in mathematical operations and scientific computing\n",
    " - Most widely used in scientific computing"
   ]
  },
  {
   "cell_type": "markdown",
   "metadata": {},
   "source": [
    " ### Why to use SciPy\n",
    " \n",
    " - Contains variety of sub-packages that help to resolve most common isues related to scientific computation.\n",
    " - Easy to use and understand.\n",
    " - Fast computational power.\n",
    " - Can operate on an array of Python NumPy library."
   ]
  },
  {
   "cell_type": "markdown",
   "metadata": {},
   "source": [
    " ### What is NumPy\n",
    " \n",
    " - Python package written in 'C'.\n",
    " - Used for mathematical calculation.\n",
    " - Fater than other python libraries.\n",
    " - Most useful library to perform basic mathematical calculations.\n",
    " - Uses Array data type for basic calcualtion."
   ]
  },
  {
   "cell_type": "markdown",
   "metadata": {},
   "source": [
    "### How is SciPy linked to NumPy\n",
    "\n",
    "- SciPy is built on top of NumPy.\n",
    "- SciPy is a full-featured version of linear algebra , where as Numpy has only a few features.\n",
    "- Latest Data Science features are available in SciPy but not in Numpy"
   ]
  },
  {
   "cell_type": "markdown",
   "metadata": {},
   "source": [
    "### Sub-packages and functionalities in SciPy\n",
    "\n",
    "- scipy.io :: Used for file input and output.\n",
    "- scipy.special :: Used for performing special functionalities in mathematical physics.\n",
    "- scipy.linalg :: Used for performing linear algebra operations.\n",
    "- scipy.interpolate :: Majorly used for mathematical operations like interpolation.\n",
    "- scipy.stats :: Used for performing statistical operations and generating random numbers.\n",
    "- scipy.integrate :: Used for performing mathematical integration.\n",
    "- scipy.fftpack :: Used for fast transformation.\n",
    "- scipy.signal :: Used for mathematical signal processing\n",
    "- scipy.ndimage :: Used for image manipulation."
   ]
  },
  {
   "cell_type": "markdown",
   "metadata": {},
   "source": [
    "### Functionalities of SciPy\n",
    "\n",
    "- Working with differnet file formats ( Matlab , ARFF, wave, matrix, ideal, binary ...)\n",
    "- Cube-root and exponential fucntions.\n",
    "- Calculation of permutations and combinations.\n",
    "- Calcualtion of inverse of a matrix.\n",
    "- Calcualtion of Eigen-values and Eigen-vectors of square matrices.\n",
    "- Transformation of discrete data \n",
    "- Optimization and fitting equations\n",
    "- Scipy can perform integration. "
   ]
  },
  {
   "cell_type": "code",
   "execution_count": null,
   "metadata": {},
   "outputs": [],
   "source": []
  }
 ],
 "metadata": {
  "kernelspec": {
   "display_name": "Python 3",
   "language": "python",
   "name": "python3"
  },
  "language_info": {
   "codemirror_mode": {
    "name": "ipython",
    "version": 3
   },
   "file_extension": ".py",
   "mimetype": "text/x-python",
   "name": "python",
   "nbconvert_exporter": "python",
   "pygments_lexer": "ipython3",
   "version": "3.7.6"
  }
 },
 "nbformat": 4,
 "nbformat_minor": 4
}

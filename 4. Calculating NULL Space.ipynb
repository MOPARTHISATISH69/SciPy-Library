{
 "cells": [
  {
   "cell_type": "markdown",
   "metadata": {},
   "source": [
    "The null space of an MxN matrix A, denotes as null A, is the set of all solutions for the homogeneous Equation Ax = 0."
   ]
  },
  {
   "cell_type": "markdown",
   "metadata": {},
   "source": [
    "Calculating the null space of a matrix helps us in identifying all the potential values of x that help to solve \n",
    "the equation Ax =0."
   ]
  },
  {
   "cell_type": "code",
   "execution_count": 1,
   "metadata": {},
   "outputs": [],
   "source": [
    "import numpy as np\n",
    "import sympy"
   ]
  },
  {
   "cell_type": "code",
   "execution_count": 2,
   "metadata": {},
   "outputs": [
    {
     "name": "stdout",
     "output_type": "stream",
     "text": [
      "Matrix([[1, 2, 3, 0, 0], [4, 10, 0, 0, 1]])\n"
     ]
    }
   ],
   "source": [
    "## Initialize the matrix\n",
    "\n",
    "M = sympy.Matrix([[1,2,3,0,0],[4,10,0,0,1]])\n",
    "print(M)"
   ]
  },
  {
   "cell_type": "code",
   "execution_count": 3,
   "metadata": {},
   "outputs": [
    {
     "data": {
      "text/plain": [
       "[Matrix([\n",
       " [-15],\n",
       " [  6],\n",
       " [  1],\n",
       " [  0],\n",
       " [  0]]),\n",
       " Matrix([\n",
       " [0],\n",
       " [0],\n",
       " [0],\n",
       " [1],\n",
       " [0]]),\n",
       " Matrix([\n",
       " [   1],\n",
       " [-1/2],\n",
       " [   0],\n",
       " [   0],\n",
       " [   1]])]"
      ]
     },
     "execution_count": 3,
     "metadata": {},
     "output_type": "execute_result"
    }
   ],
   "source": [
    "# Calculate the null space by using the null space funciton\n",
    "\n",
    "M.nullspace()"
   ]
  },
  {
   "cell_type": "code",
   "execution_count": 4,
   "metadata": {},
   "outputs": [],
   "source": [
    "x1 = [[-15],[6],[1],[0],[0]]"
   ]
  },
  {
   "cell_type": "markdown",
   "metadata": {},
   "source": [
    "The Matrix multiplication of M and x1 will be perfomred as follows"
   ]
  },
  {
   "cell_type": "code",
   "execution_count": 5,
   "metadata": {},
   "outputs": [
    {
     "data": {
      "text/plain": [
       "array([[0],\n",
       "       [0]], dtype=object)"
      ]
     },
     "execution_count": 5,
     "metadata": {},
     "output_type": "execute_result"
    }
   ],
   "source": [
    "np.dot(np.array(M),x1)"
   ]
  },
  {
   "cell_type": "code",
   "execution_count": 6,
   "metadata": {},
   "outputs": [
    {
     "data": {
      "text/plain": [
       "397"
      ]
     },
     "execution_count": 6,
     "metadata": {},
     "output_type": "execute_result"
    }
   ],
   "source": [
    "## Calculating range of Matrix\n",
    "\n",
    "M1 = np.array([[3,300],[4,400]]) #Range of a matrix is ideally the maximun and minimum in the given array of elements\n",
    "R = np.ptp(M1)   #maximun value in matrix - minimum value in matrix -::-  400 - 3 = 397 \n",
    "R"
   ]
  },
  {
   "cell_type": "code",
   "execution_count": 7,
   "metadata": {},
   "outputs": [
    {
     "name": "stdout",
     "output_type": "stream",
     "text": [
      "[  1 100]\n",
      "[297 396]\n"
     ]
    }
   ],
   "source": [
    "## Range of elements in the rows of a matrix\n",
    "RR = np.ptp(M1,axis=0)\n",
    "print(RR)\n",
    "## Range of elements in the columns of a matrix\n",
    "CR = np.ptp(M1,axis=1)     #ptp stands for peak to peak \n",
    "print(CR)"
   ]
  },
  {
   "cell_type": "markdown",
   "metadata": {},
   "source": [
    "## Calculating the rank and nullity of a matrix"
   ]
  },
  {
   "cell_type": "markdown",
   "metadata": {},
   "source": [
    "The rank of a matrix is defined as the maximum number of linear independent column vectors in the matrix or the \n",
    "maximum number of linear independent row vectors in the matrix."
   ]
  },
  {
   "cell_type": "code",
   "execution_count": 8,
   "metadata": {},
   "outputs": [
    {
     "name": "stdout",
     "output_type": "stream",
     "text": [
      "[[ 3  2 -1]\n",
      " [ 2 -3 -5]\n",
      " [-1 -4 -3]]\n"
     ]
    }
   ],
   "source": [
    "C = np.array([[3,2,-1],[2,-3,-5],[-1,-4,-3]])\n",
    "print(C)"
   ]
  },
  {
   "cell_type": "markdown",
   "metadata": {},
   "source": [
    "Transforming matrix C\n",
    "[[1,4,3],[0,1,1],[0,0,0]]"
   ]
  },
  {
   "cell_type": "markdown",
   "metadata": {},
   "source": [
    "Given that two rows out of the three rows have at least one non-zero elements in the matrix , the rank of the matrix is 2"
   ]
  },
  {
   "cell_type": "code",
   "execution_count": 9,
   "metadata": {},
   "outputs": [
    {
     "data": {
      "text/plain": [
       "2"
      ]
     },
     "execution_count": 9,
     "metadata": {},
     "output_type": "execute_result"
    }
   ],
   "source": [
    "np.linalg.matrix_rank(C)"
   ]
  },
  {
   "cell_type": "markdown",
   "metadata": {},
   "source": [
    "Rank of Matrix -::- https://stattrek.com/matrix-algebra/matrix-rank.aspx"
   ]
  },
  {
   "cell_type": "markdown",
   "metadata": {},
   "source": [
    "## Calculating the nullity of a matrix"
   ]
  },
  {
   "cell_type": "markdown",
   "metadata": {},
   "source": [
    "Nullity of a matrix is the difference between the number of columns and the rank of the matrix"
   ]
  },
  {
   "cell_type": "code",
   "execution_count": 10,
   "metadata": {},
   "outputs": [
    {
     "data": {
      "text/plain": [
       "(3, 3)"
      ]
     },
     "execution_count": 10,
     "metadata": {},
     "output_type": "execute_result"
    }
   ],
   "source": [
    "C.shape"
   ]
  },
  {
   "cell_type": "code",
   "execution_count": 11,
   "metadata": {},
   "outputs": [
    {
     "data": {
      "text/plain": [
       "3"
      ]
     },
     "execution_count": 11,
     "metadata": {},
     "output_type": "execute_result"
    }
   ],
   "source": [
    "C.shape[1]"
   ]
  },
  {
   "cell_type": "code",
   "execution_count": 12,
   "metadata": {},
   "outputs": [
    {
     "data": {
      "text/plain": [
       "1"
      ]
     },
     "execution_count": 12,
     "metadata": {},
     "output_type": "execute_result"
    }
   ],
   "source": [
    "C.shape[1] - np.linalg.matrix_rank(C)"
   ]
  },
  {
   "cell_type": "markdown",
   "metadata": {},
   "source": [
    "So, the nullity of the matrix C is 1"
   ]
  },
  {
   "cell_type": "code",
   "execution_count": null,
   "metadata": {},
   "outputs": [],
   "source": []
  }
 ],
 "metadata": {
  "kernelspec": {
   "display_name": "Python 3",
   "language": "python",
   "name": "python3"
  },
  "language_info": {
   "codemirror_mode": {
    "name": "ipython",
    "version": 3
   },
   "file_extension": ".py",
   "mimetype": "text/x-python",
   "name": "python",
   "nbconvert_exporter": "python",
   "pygments_lexer": "ipython3",
   "version": "3.7.6"
  }
 },
 "nbformat": 4,
 "nbformat_minor": 4
}

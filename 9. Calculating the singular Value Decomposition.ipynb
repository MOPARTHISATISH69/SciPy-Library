{
 "cells": [
  {
   "cell_type": "markdown",
   "metadata": {},
   "source": [
    "The SVD of a matrix A is the decomposition or factorization of A into the product of the three matrices.\n",
    "\n",
    "A = UxΣxV\n",
    "\n",
    "The size of the individual matrices is as follows , if you know that matrix A is of size MxN\n",
    "\n",
    "1. Matrix U is of size MxM\n",
    "2. Matrix V is of size NXN\n",
    "3. Matrix Σ is of size MxN"
   ]
  },
  {
   "cell_type": "code",
   "execution_count": 1,
   "metadata": {},
   "outputs": [
    {
     "data": {
      "text/plain": [
       "array([[5, 6],\n",
       "       [1, 2]])"
      ]
     },
     "execution_count": 1,
     "metadata": {},
     "output_type": "execute_result"
    }
   ],
   "source": [
    "# Initialize an array\n",
    "import numpy as np\n",
    "S = np.array([[5,6],[1,2]])\n",
    "S"
   ]
  },
  {
   "cell_type": "code",
   "execution_count": 2,
   "metadata": {},
   "outputs": [
    {
     "data": {
      "text/plain": [
       "(array([[-0.96301285, -0.26945546],\n",
       "        [-0.26945546,  0.96301285]]),\n",
       " array([8.10904919, 0.49327608]),\n",
       " array([[-0.62701799, -0.77900477],\n",
       "        [-0.77900477,  0.62701799]]))"
      ]
     },
     "execution_count": 2,
     "metadata": {},
     "output_type": "execute_result"
    }
   ],
   "source": [
    "import scipy.linalg as la\n",
    "\n",
    "#Use the svd function to calculate the SVD matrices ( U , V and Σ)\n",
    "\n",
    "la.svd(S)"
   ]
  },
  {
   "cell_type": "code",
   "execution_count": 3,
   "metadata": {},
   "outputs": [],
   "source": [
    "U = np.array([[-0.96301285, -0.26945546],\n",
    "        [-0.26945546,  0.96301285]])\n",
    "\n",
    "Sigma = np.array([[8.10904919,0],[0,0.49327608]])\n",
    "\n",
    "V = np.array([[-0.62701799, -0.77900477],\n",
    "        [-0.77900477,  0.62701799]])"
   ]
  },
  {
   "cell_type": "code",
   "execution_count": 4,
   "metadata": {},
   "outputs": [
    {
     "data": {
      "text/plain": [
       "array([[4.99999998, 5.99999994],\n",
       "       [1.00000003, 2.00000002]])"
      ]
     },
     "execution_count": 4,
     "metadata": {},
     "output_type": "execute_result"
    }
   ],
   "source": [
    "# perform the matrix multiplication of U , Sigma and V matrices\n",
    "\n",
    "np.dot(np.dot(U,Sigma),V)"
   ]
  },
  {
   "cell_type": "markdown",
   "metadata": {},
   "source": [
    "Sigma value decomposition is more useful technique in typical data science \n",
    "\n",
    "one of the most important application SVd is recommended system where the matrix of user item is broken into multiple matrices that are simplier to implement. \n",
    "\n",
    "Similarly SVD is used in Image compression algorithm where we try to capture the information by using very few pixels as possible."
   ]
  },
  {
   "cell_type": "code",
   "execution_count": null,
   "metadata": {},
   "outputs": [],
   "source": []
  }
 ],
 "metadata": {
  "kernelspec": {
   "display_name": "Python 3",
   "language": "python",
   "name": "python3"
  },
  "language_info": {
   "codemirror_mode": {
    "name": "ipython",
    "version": 3
   },
   "file_extension": ".py",
   "mimetype": "text/x-python",
   "name": "python",
   "nbconvert_exporter": "python",
   "pygments_lexer": "ipython3",
   "version": "3.7.6"
  }
 },
 "nbformat": 4,
 "nbformat_minor": 4
}

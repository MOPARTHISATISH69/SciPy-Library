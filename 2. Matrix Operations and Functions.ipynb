{
 "cells": [
  {
   "cell_type": "code",
   "execution_count": 1,
   "metadata": {},
   "outputs": [
    {
     "name": "stdout",
     "output_type": "stream",
     "text": [
      "[[26 33]\n",
      " [15 15]]\n"
     ]
    }
   ],
   "source": [
    "## Matrix Operaitons\n",
    "## Initializing an array\n",
    "import numpy as np\n",
    "X1 = np.array([[5,1],[4,2]])\n",
    "Y1 = np.array([[21,32],[11,13]])\n",
    "#matrix additon\n",
    "\n",
    "Z1 = X1+Y1\n",
    "print(Z1)"
   ]
  },
  {
   "cell_type": "code",
   "execution_count": 2,
   "metadata": {},
   "outputs": [
    {
     "name": "stdout",
     "output_type": "stream",
     "text": [
      "[[26 33]\n",
      " [15 15]]\n"
     ]
    }
   ],
   "source": [
    "# Addition using np.add function\n",
    "Z2 = np.add(X1,Y1)\n",
    "print(Z2)"
   ]
  },
  {
   "cell_type": "code",
   "execution_count": 3,
   "metadata": {},
   "outputs": [
    {
     "name": "stdout",
     "output_type": "stream",
     "text": [
      "[[10  2]\n",
      " [ 8 10]]\n"
     ]
    }
   ],
   "source": [
    "## Multiplicaiton by a scalar\n",
    "\n",
    "X2 = np.array([[5,1],[4,5]])\n",
    "X3 = 2*X2\n",
    "print(X3)"
   ]
  },
  {
   "cell_type": "code",
   "execution_count": 4,
   "metadata": {},
   "outputs": [
    {
     "name": "stdout",
     "output_type": "stream",
     "text": [
      "[[16 31]\n",
      " [ 7 11]]\n"
     ]
    }
   ],
   "source": [
    "## Matrix Subtraction\n",
    "\n",
    "S = Y1-X1\n",
    "print(S)"
   ]
  },
  {
   "cell_type": "code",
   "execution_count": 5,
   "metadata": {},
   "outputs": [
    {
     "name": "stdout",
     "output_type": "stream",
     "text": [
      "[[105  32]\n",
      " [ 44  26]]\n"
     ]
    }
   ],
   "source": [
    "## Matrix Multiplication  # this is not actual matrix multiplicaiton\n",
    "## Thisi is element-wise multiplicaiton\n",
    "\n",
    "M = Y1*X1\n",
    "print(M)"
   ]
  },
  {
   "cell_type": "code",
   "execution_count": 6,
   "metadata": {},
   "outputs": [
    {
     "name": "stdout",
     "output_type": "stream",
     "text": [
      "[[0.23809524 0.03125   ]\n",
      " [0.36363636 0.15384615]]\n"
     ]
    }
   ],
   "source": [
    "## All the above element-wise , this is element-wise operaiton carried out in NumPy array\n",
    "\n",
    "## Division\n",
    "D  = X1/Y1\n",
    "print(D)"
   ]
  },
  {
   "cell_type": "code",
   "execution_count": 7,
   "metadata": {},
   "outputs": [
    {
     "name": "stdout",
     "output_type": "stream",
     "text": [
      "[[1299066613          1]\n",
      " [   4194304       8192]]\n"
     ]
    }
   ],
   "source": [
    "## Exponential\n",
    "\n",
    "E = X1**Y1\n",
    "print(E)"
   ]
  },
  {
   "cell_type": "code",
   "execution_count": 8,
   "metadata": {},
   "outputs": [],
   "source": [
    "### Matrix Multiplication   \n",
    "## Matrix multiplication of mxn array with pxq array can be done only when n == p  and result matrix is the shape of (m,q)"
   ]
  },
  {
   "cell_type": "code",
   "execution_count": 9,
   "metadata": {},
   "outputs": [
    {
     "name": "stdout",
     "output_type": "stream",
     "text": [
      "[[ 45  48  51]\n",
      " [162 174 186]\n",
      " [279 300 321]]\n"
     ]
    }
   ],
   "source": [
    "x1 = np.arange(0,9).reshape(3,3)\n",
    "y1 = np.arange(10,19).reshape(3,3)\n",
    "MM = np.dot(x1,y1)                    # dot funciton in Numpy does the actual matrix multiplication\n",
    "print(MM)"
   ]
  },
  {
   "cell_type": "code",
   "execution_count": 10,
   "metadata": {},
   "outputs": [
    {
     "name": "stdout",
     "output_type": "stream",
     "text": [
      "[[ 45 162 279]\n",
      " [ 48 174 300]\n",
      " [ 51 186 321]]\n"
     ]
    }
   ],
   "source": [
    "## Matrix Transpose\n",
    "\n",
    "MT = MM.T        #'.T' gives transpose of matrix\n",
    "print(MT)"
   ]
  },
  {
   "cell_type": "code",
   "execution_count": 11,
   "metadata": {},
   "outputs": [
    {
     "name": "stdout",
     "output_type": "stream",
     "text": [
      "[[ 45 162 279]\n",
      " [ 48 174 300]\n",
      " [ 51 186 321]]\n"
     ]
    }
   ],
   "source": [
    "## Alternative way for matrix transpose\n",
    "MT1 = np.transpose(MM)\n",
    "print(MT1)                  # transpose means , converting rows into column and columns into rows"
   ]
  },
  {
   "cell_type": "code",
   "execution_count": 12,
   "metadata": {},
   "outputs": [
    {
     "name": "stdout",
     "output_type": "stream",
     "text": [
      "[[17 20]\n",
      " [57 68]]\n"
     ]
    }
   ],
   "source": [
    "## Let's take an example of matrix multiplication\n",
    "\n",
    "## [1,2][3,4] [[1*3+2*7],[1*4+2*8]]  [17,22]\n",
    "## [5,6][7,8] [[5*3+6*7],[5*4+6*8]]  [57,68]\n",
    "\n",
    "# Let's see here\n",
    "\n",
    "A = np.array([[1,2],[5,6]])\n",
    "B = np.array([[3,4],[7,8]])\n",
    "C = np.dot(A,B)\n",
    "print(C)"
   ]
  },
  {
   "cell_type": "code",
   "execution_count": 13,
   "metadata": {},
   "outputs": [],
   "source": [
    "## Matrix Inverse \n",
    "from scipy import linalg as la"
   ]
  },
  {
   "cell_type": "code",
   "execution_count": 14,
   "metadata": {},
   "outputs": [
    {
     "data": {
      "text/plain": [
       "array([[5, 6],\n",
       "       [7, 5]])"
      ]
     },
     "execution_count": 14,
     "metadata": {},
     "output_type": "execute_result"
    }
   ],
   "source": [
    "SLM = np.array([[5,6],[7,5]])\n",
    "SLM"
   ]
  },
  {
   "cell_type": "code",
   "execution_count": 15,
   "metadata": {},
   "outputs": [
    {
     "data": {
      "text/plain": [
       "array([[-0.29411765,  0.35294118],\n",
       "       [ 0.41176471, -0.29411765]])"
      ]
     },
     "execution_count": 15,
     "metadata": {},
     "output_type": "execute_result"
    }
   ],
   "source": [
    "la.inv(SLM)"
   ]
  },
  {
   "cell_type": "markdown",
   "metadata": {},
   "source": [
    "Matrix Inverse -::- https://mathworld.wolfram.com/MatrixInverse.html"
   ]
  },
  {
   "cell_type": "code",
   "execution_count": null,
   "metadata": {},
   "outputs": [],
   "source": []
  }
 ],
 "metadata": {
  "kernelspec": {
   "display_name": "Python 3",
   "language": "python",
   "name": "python3"
  },
  "language_info": {
   "codemirror_mode": {
    "name": "ipython",
    "version": 3
   },
   "file_extension": ".py",
   "mimetype": "text/x-python",
   "name": "python",
   "nbconvert_exporter": "python",
   "pygments_lexer": "ipython3",
   "version": "3.7.6"
  }
 },
 "nbformat": 4,
 "nbformat_minor": 4
}
